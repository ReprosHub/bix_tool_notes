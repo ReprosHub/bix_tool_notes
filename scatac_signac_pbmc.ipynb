{
 "cells": [
  {
   "cell_type": "markdown",
   "id": "43351f47-b8ad-4a1b-a7d3-f7be07933b4e",
   "metadata": {},
   "source": [
    "# Analysis of scATAC-seq data in PBMC using Signac\n"
   ]
  },
  {
   "cell_type": "markdown",
   "id": "b526f263-5df5-48f9-a1b9-a67c96998a69",
   "metadata": {},
   "source": [
    "In this note, the data is from 10x. Cellranger report can be found in the link [here](https://cf.10xgenomics.com/samples/cell-atac/2.1.0/10k_pbmc_ATACv2_nextgem_Chromium_Controller/10k_pbmc_ATACv2_nextgem_Chromium_Controller_web_summary.html\n",
    "). "
   ]
  },
  {
   "cell_type": "markdown",
   "id": "e949d150-3c92-40a6-a804-5a0499b065ef",
   "metadata": {},
   "source": [
    "```\n",
    "micromamba activate condaenv4bix_tool_notes_scatac\n",
    "export R_LIBS=/home/xies4/micromamba/envs/condaenv4bix_tool_notes_scatac/lib/R/library/\n",
    "```"
   ]
  },
  {
   "cell_type": "markdown",
   "id": "2fa801d1-c4fa-4241-a4a3-f7197d5a59c1",
   "metadata": {},
   "source": [
    "## Data downloading "
   ]
  },
  {
   "cell_type": "markdown",
   "id": "74d9972f-ae9c-4ce7-9e76-8b060711f6e6",
   "metadata": {},
   "source": [
    "To download all the required files, you can run the following lines in a shell:"
   ]
  },
  {
   "cell_type": "code",
   "execution_count": 1,
   "id": "a1a3826c-4ed9-44dd-80ce-8aa10b5e9372",
   "metadata": {},
   "outputs": [
    {
     "data": {
      "text/html": [
       "'/mnt/ccrsf-static/Analysis/xies4/github_repos/ngs_software_testing_notes/docs'"
      ],
      "text/latex": [
       "'/mnt/ccrsf-static/Analysis/xies4/github\\_repos/ngs\\_software\\_testing\\_notes/docs'"
      ],
      "text/markdown": [
       "'/mnt/ccrsf-static/Analysis/xies4/github_repos/ngs_software_testing_notes/docs'"
      ],
      "text/plain": [
       "[1] \"/mnt/ccrsf-static/Analysis/xies4/github_repos/ngs_software_testing_notes/docs\""
      ]
     },
     "metadata": {},
     "output_type": "display_data"
    }
   ],
   "source": [
    "getwd()"
   ]
  },
  {
   "cell_type": "code",
   "execution_count": 2,
   "id": "984759e3-2e4c-4c6c-b768-1e96e65aeda1",
   "metadata": {},
   "outputs": [
    {
     "name": "stdout",
     "output_type": "stream",
     "text": [
      "#!/bin/bash\n",
      "wget https://cf.10xgenomics.com/samples/cell-atac/2.1.0/10k_pbmc_ATACv2_nextgem_Chromium_Controller/10k_pbmc_ATACv2_nextgem_Chromium_Controller_filtered_peak_bc_matrix.h5\n",
      "wget https://cf.10xgenomics.com/samples/cell-atac/2.1.0/10k_pbmc_ATACv2_nextgem_Chromium_Controller/10k_pbmc_ATACv2_nextgem_Chromium_Controller_singlecell.csv\n",
      "wget https://cf.10xgenomics.com/samples/cell-atac/2.1.0/10k_pbmc_ATACv2_nextgem_Chromium_Controller/10k_pbmc_ATACv2_nextgem_Chromium_Controller_fragments.tsv.gz\n",
      "wget https://cf.10xgenomics.com/samples/cell-atac/2.1.0/10k_pbmc_ATACv2_nextgem_Chromium_Controller/10k_pbmc_ATACv2_nextgem_Chromium_Controller_fragments.tsv.gz.tbi\n"
     ]
    }
   ],
   "source": [
    "cat(system(\"cat ./scatac_signac_pbmc/s1_dl.sh\", intern = T), sep = \"\\n\")"
   ]
  },
  {
   "cell_type": "code",
   "execution_count": 3,
   "id": "e85863b1-f128-4fb9-bdb7-64a9a3dab4c6",
   "metadata": {},
   "outputs": [
    {
     "name": "stdout",
     "output_type": "stream",
     "text": [
      "barcode,total,duplicate,chimeric,unmapped,lowmapq,mitochondrial,nonprimary,passed_filters,is__cell_barcode,excluded_reason,TSS_fragments,DNase_sensitive_region_fragments,enhancer_region_fragments,promoter_region_fragments,on_target_fragments,blacklist_region_fragments,peak_region_fragments,peak_region_cutsites\n",
      "NO_BARCODE,20081988,3972351,3423,2118408,1159348,23059,4131,12801268,0,0,0,0,0,0,0,0,0,0\n",
      "AAACGAAAGAAACGCC-1,4,0,0,0,0,0,0,4,0,0,1,0,0,0,1,0,2,4\n",
      "AAACGAAAGAAAGCAG-1,3,0,0,0,0,0,0,3,0,0,0,0,0,0,0,0,1,2\n",
      "AAACGAAAGAAAGGGT-1,2,0,0,0,0,0,0,2,0,0,0,0,0,0,0,0,1,2\n",
      "AAACGAAAGAAATACC-1,17,0,0,0,0,0,0,17,0,0,11,0,0,0,11,0,14,27\n",
      "AAACGAAAGAAATCTG-1,1,0,0,0,0,0,0,1,0,2,0,0,0,0,0,0,0,0\n",
      "AAACGAAAGAAATGGG-1,1,0,0,0,1,0,0,0,0,0,0,0,0,0,0,0,0,0\n",
      "AAACGAAAGAAATTCG-1,4,0,0,0,1,0,0,3,0,0,1,0,0,0,1,0,2,4\n",
      "AAACGAAAGAACAGGA-1,2,0,0,0,0,0,0,2,0,0,2,0,0,0,2,0,2,4\n"
     ]
    }
   ],
   "source": [
    "cat(system(\"head 10k_pbmc_ATACv2_nextgem_Chromium_Controller_singlecell.csv\", intern = T), sep=\"\\n\")"
   ]
  },
  {
   "cell_type": "markdown",
   "id": "925168fd-88cf-4003-9b12-0e2997bda641",
   "metadata": {},
   "source": [
    "## Load R packages"
   ]
  },
  {
   "cell_type": "code",
   "execution_count": 4,
   "id": "5ae2bc64-f0d7-4183-a247-c1d893b5b876",
   "metadata": {},
   "outputs": [
    {
     "name": "stderr",
     "output_type": "stream",
     "text": [
      "Loading required package: SeuratObject\n",
      "\n",
      "Loading required package: sp\n",
      "\n",
      "\n",
      "Attaching package: ‘SeuratObject’\n",
      "\n",
      "\n",
      "The following objects are masked from ‘package:base’:\n",
      "\n",
      "    intersect, t\n",
      "\n",
      "\n",
      "Loading required package: stats4\n",
      "\n",
      "Loading required package: BiocGenerics\n",
      "\n",
      "\n",
      "Attaching package: ‘BiocGenerics’\n",
      "\n",
      "\n",
      "The following object is masked from ‘package:SeuratObject’:\n",
      "\n",
      "    intersect\n",
      "\n",
      "\n",
      "The following objects are masked from ‘package:stats’:\n",
      "\n",
      "    IQR, mad, sd, var, xtabs\n",
      "\n",
      "\n",
      "The following objects are masked from ‘package:base’:\n",
      "\n",
      "    anyDuplicated, aperm, append, as.data.frame, basename, cbind,\n",
      "    colnames, dirname, do.call, duplicated, eval, evalq, Filter, Find,\n",
      "    get, grep, grepl, intersect, is.unsorted, lapply, Map, mapply,\n",
      "    match, mget, order, paste, pmax, pmax.int, pmin, pmin.int,\n",
      "    Position, rank, rbind, Reduce, rownames, sapply, setdiff, sort,\n",
      "    table, tapply, union, unique, unsplit, which.max, which.min\n",
      "\n",
      "\n",
      "Loading required package: S4Vectors\n",
      "\n",
      "\n",
      "Attaching package: ‘S4Vectors’\n",
      "\n",
      "\n",
      "The following object is masked from ‘package:utils’:\n",
      "\n",
      "    findMatches\n",
      "\n",
      "\n",
      "The following objects are masked from ‘package:base’:\n",
      "\n",
      "    expand.grid, I, unname\n",
      "\n",
      "\n",
      "Loading required package: IRanges\n",
      "\n",
      "\n",
      "Attaching package: ‘IRanges’\n",
      "\n",
      "\n",
      "The following object is masked from ‘package:sp’:\n",
      "\n",
      "    %over%\n",
      "\n",
      "\n",
      "Loading required package: GenomeInfoDb\n",
      "\n"
     ]
    }
   ],
   "source": [
    "library(Signac)\n",
    "library(Seurat)\n",
    "library(ggplot2)\n",
    "library(patchwork)\n",
    "library(GenomicRanges)"
   ]
  },
  {
   "cell_type": "markdown",
   "id": "299f1b87-bc6d-4a7b-b689-c2465122eaad",
   "metadata": {},
   "source": [
    "## Data preprocessing "
   ]
  },
  {
   "cell_type": "markdown",
   "id": "10214b05-6640-43a1-872d-28ac4aa6ec1d",
   "metadata": {},
   "source": [
    "Signac uses information from two related input files, both of which can be created using CellRanger:\n",
    "\n",
    "1. Peak/Cell matrix. This is analogous to the gene expression count matrix used to analyze single-cell RNA-seq. However, instead of genes, each row of the matrix represents a region of the genome (a peak), that is predicted to represent a region of open chromatin. Each value in the matrix represents the number of Tn5 integration sites for each single barcode (i.e. a cell) that map within each peak. You can find more detail on the 10X Website.\n",
    "\n",
    "2. Fragment file. This represents a full list of all unique fragments across all single cells. It is a substantially larger file, is slower to work with, and is stored on-disk (instead of in memory). However, the advantage of retaining this file is that it contains all fragments associated with each single cell, as opposed to only fragments that map to peaks. More information about the fragment file can be found on the 10x Genomics website or on the sinto website.\n",
    "\n"
   ]
  },
  {
   "cell_type": "code",
   "execution_count": 5,
   "id": "a36e3a08-a368-4b3c-a348-401fb4b74571",
   "metadata": {},
   "outputs": [],
   "source": [
    "counts <- Read10X_h5(filename = \"10k_pbmc_ATACv2_nextgem_Chromium_Controller_filtered_peak_bc_matrix.h5\")"
   ]
  },
  {
   "cell_type": "code",
   "execution_count": 6,
   "id": "d118aaaa-50b6-4a4f-ab52-b0b868098fdd",
   "metadata": {},
   "outputs": [],
   "source": [
    "metadata <- read.csv(\n",
    "  file = \"10k_pbmc_ATACv2_nextgem_Chromium_Controller_singlecell.csv\",\n",
    "  header = TRUE,\n",
    "  row.names = 1\n",
    ")"
   ]
  },
  {
   "cell_type": "code",
   "execution_count": null,
   "id": "6d1c6788-e38d-425d-a6e3-fc9c951a31ed",
   "metadata": {},
   "outputs": [],
   "source": [
    "chrom_assay <- CreateChromatinAssay(\n",
    "  counts = counts,\n",
    "  sep = c(\":\", \"-\"),\n",
    "  fragments = \"10k_pbmc_ATACv2_nextgem_Chromium_Controller_fragments.tsv.gz\",\n",
    "  min.cells = 10,\n",
    "  min.features = 200\n",
    ")"
   ]
  },
  {
   "cell_type": "code",
   "execution_count": 8,
   "id": "523efeda-4628-4a37-96bb-5cad43a5d642",
   "metadata": {},
   "outputs": [],
   "source": [
    "pbmc <- CreateSeuratObject(\n",
    "  counts = chrom_assay,\n",
    "  assay = \"peaks\",\n",
    "  meta.data = metadata\n",
    ")"
   ]
  },
  {
   "cell_type": "code",
   "execution_count": 9,
   "id": "c80e94ae-3e9b-4dc1-9a6d-ca2339ad007c",
   "metadata": {},
   "outputs": [
    {
     "data": {
      "text/plain": [
       "An object of class Seurat \n",
       "165434 features across 10246 samples within 1 assay \n",
       "Active assay: peaks (165434 features, 0 variable features)\n",
       " 2 layers present: counts, data"
      ]
     },
     "metadata": {},
     "output_type": "display_data"
    }
   ],
   "source": [
    "pbmc"
   ]
  },
  {
   "cell_type": "markdown",
   "id": "66a65de7-281b-4a33-9b5e-f4c74f7bdfe5",
   "metadata": {},
   "source": [
    "Similar to scRNA-seq, you can also read the count matrix stored in three files under the folder: `filtered_peak_bc_matrix`: \n",
    "\n",
    "```\n",
    "counts <- Matrix::readMM(\"filtered_peak_bc_matrix/matrix.mtx\")\n",
    "barcodes <- readLines(\"filtered_peak_bc_matrix/barcodes.tsv\")\n",
    "peaks <- read.table(\"filtered_peak_bc_matrix/peaks.bed\", sep=\"\\t\")\n",
    "peaknames <- paste(peaks$V1, peaks$V2, peaks$V3, sep=\"-\")\n",
    "colnames(counts) <- barcodes\n",
    "rownames(counts) <- peaknames\n",
    "```\n"
   ]
  },
  {
   "cell_type": "code",
   "execution_count": 10,
   "id": "cabd8ed9-e2d7-4f92-9d01-d89add5a7187",
   "metadata": {},
   "outputs": [
    {
     "data": {
      "text/plain": [
       "ChromatinAssay data with 165434 features for 10246 cells\n",
       "Variable features: 0 \n",
       "Genome: \n",
       "Annotation present: FALSE \n",
       "Motifs present: FALSE \n",
       "Fragment files: 1 "
      ]
     },
     "metadata": {},
     "output_type": "display_data"
    }
   ],
   "source": [
    "pbmc[['peaks']]"
   ]
  },
  {
   "cell_type": "code",
   "execution_count": 11,
   "id": "8c67e64c-04aa-4b0e-9d17-a6038640cdbb",
   "metadata": {},
   "outputs": [
    {
     "data": {
      "text/plain": [
       "GRanges object with 165434 ranges and 0 metadata columns:\n",
       "             seqnames        ranges strand\n",
       "                <Rle>     <IRanges>  <Rle>\n",
       "       [1]       chr1    9772-10660      *\n",
       "       [2]       chr1 180712-181178      *\n",
       "       [3]       chr1 181200-181607      *\n",
       "       [4]       chr1 191183-192084      *\n",
       "       [5]       chr1 267576-268461      *\n",
       "       ...        ...           ...    ...\n",
       "  [165430] KI270713.1   13054-13909      *\n",
       "  [165431] KI270713.1   15212-15933      *\n",
       "  [165432] KI270713.1   21459-22358      *\n",
       "  [165433] KI270713.1   29676-30535      *\n",
       "  [165434] KI270713.1   36913-37813      *\n",
       "  -------\n",
       "  seqinfo: 35 sequences from an unspecified genome; no seqlengths"
      ]
     },
     "metadata": {},
     "output_type": "display_data"
    }
   ],
   "source": [
    "granges(pbmc)\n"
   ]
  },
  {
   "cell_type": "markdown",
   "id": "96039a8b-e5eb-45ab-a5cb-d4efec4fd4b1",
   "metadata": {},
   "source": [
    "We then remove the features that correspond to chromosome scaffolds e.g. (KI270713.1) or other sequences instead of the (22+2) standard chromosomes."
   ]
  },
  {
   "cell_type": "markdown",
   "id": "18ad164d-7000-4783-a4eb-aa73666d6999",
   "metadata": {},
   "source": [
    "The function `standardChromosomes` in R package `GenomeInfoDb` lists the 'standard' chromosomes defined as sequences in the assembly that are not scaffolds; also referred to as an 'assembly molecule' in NCBI."
   ]
  },
  {
   "cell_type": "code",
   "execution_count": 12,
   "id": "c7549dae-1dc4-4f56-8f19-a5aec1edd9c4",
   "metadata": {},
   "outputs": [
    {
     "data": {
      "text/html": [
       "<style>\n",
       ".list-inline {list-style: none; margin:0; padding: 0}\n",
       ".list-inline>li {display: inline-block}\n",
       ".list-inline>li:not(:last-child)::after {content: \"\\00b7\"; padding: 0 .5ex}\n",
       "</style>\n",
       "<ol class=list-inline><li>'chr1'</li><li>'chr2'</li><li>'chr3'</li><li>'chr4'</li><li>'chr5'</li><li>'chr6'</li><li>'chr7'</li><li>'chr8'</li><li>'chr9'</li><li>'chr10'</li><li>'chr11'</li><li>'chr12'</li><li>'chr13'</li><li>'chr14'</li><li>'chr15'</li><li>'chr16'</li><li>'chr17'</li><li>'chr18'</li><li>'chr19'</li><li>'chr20'</li><li>'chr21'</li><li>'chr22'</li><li>'chrX'</li><li>'chrY'</li></ol>\n"
      ],
      "text/latex": [
       "\\begin{enumerate*}\n",
       "\\item 'chr1'\n",
       "\\item 'chr2'\n",
       "\\item 'chr3'\n",
       "\\item 'chr4'\n",
       "\\item 'chr5'\n",
       "\\item 'chr6'\n",
       "\\item 'chr7'\n",
       "\\item 'chr8'\n",
       "\\item 'chr9'\n",
       "\\item 'chr10'\n",
       "\\item 'chr11'\n",
       "\\item 'chr12'\n",
       "\\item 'chr13'\n",
       "\\item 'chr14'\n",
       "\\item 'chr15'\n",
       "\\item 'chr16'\n",
       "\\item 'chr17'\n",
       "\\item 'chr18'\n",
       "\\item 'chr19'\n",
       "\\item 'chr20'\n",
       "\\item 'chr21'\n",
       "\\item 'chr22'\n",
       "\\item 'chrX'\n",
       "\\item 'chrY'\n",
       "\\end{enumerate*}\n"
      ],
      "text/markdown": [
       "1. 'chr1'\n",
       "2. 'chr2'\n",
       "3. 'chr3'\n",
       "4. 'chr4'\n",
       "5. 'chr5'\n",
       "6. 'chr6'\n",
       "7. 'chr7'\n",
       "8. 'chr8'\n",
       "9. 'chr9'\n",
       "10. 'chr10'\n",
       "11. 'chr11'\n",
       "12. 'chr12'\n",
       "13. 'chr13'\n",
       "14. 'chr14'\n",
       "15. 'chr15'\n",
       "16. 'chr16'\n",
       "17. 'chr17'\n",
       "18. 'chr18'\n",
       "19. 'chr19'\n",
       "20. 'chr20'\n",
       "21. 'chr21'\n",
       "22. 'chr22'\n",
       "23. 'chrX'\n",
       "24. 'chrY'\n",
       "\n",
       "\n"
      ],
      "text/plain": [
       " [1] \"chr1\"  \"chr2\"  \"chr3\"  \"chr4\"  \"chr5\"  \"chr6\"  \"chr7\"  \"chr8\"  \"chr9\" \n",
       "[10] \"chr10\" \"chr11\" \"chr12\" \"chr13\" \"chr14\" \"chr15\" \"chr16\" \"chr17\" \"chr18\"\n",
       "[19] \"chr19\" \"chr20\" \"chr21\" \"chr22\" \"chrX\"  \"chrY\" "
      ]
     },
     "metadata": {},
     "output_type": "display_data"
    }
   ],
   "source": [
    "standardChromosomes(granges(pbmc))"
   ]
  },
  {
   "cell_type": "code",
   "execution_count": 13,
   "id": "b8612dc0-6c52-4b23-a368-1278be473502",
   "metadata": {},
   "outputs": [],
   "source": [
    "peaks.keep <- seqnames(granges(pbmc)) %in% standardChromosomes(granges(pbmc))\n",
    "pbmc <- pbmc[as.vector(peaks.keep), ]"
   ]
  },
  {
   "cell_type": "code",
   "execution_count": 14,
   "id": "e84a92bf-538d-48bd-a770-b2dd7e58b16d",
   "metadata": {},
   "outputs": [
    {
     "name": "stderr",
     "output_type": "stream",
     "text": [
      "Loading required package: BiocFileCache\n",
      "\n",
      "Loading required package: dbplyr\n",
      "\n"
     ]
    },
    {
     "data": {
      "text/plain": [
       "AnnotationHub with 1 record\n",
       "# snapshotDate(): 2023-10-23\n",
       "# names(): AH75011\n",
       "# $dataprovider: Ensembl\n",
       "# $species: Homo sapiens\n",
       "# $rdataclass: EnsDb\n",
       "# $rdatadateadded: 2019-05-02\n",
       "# $title: Ensembl 98 EnsDb for Homo sapiens\n",
       "# $description: Gene and protein annotations for Homo sapiens based on Ensem...\n",
       "# $taxonomyid: 9606\n",
       "# $genome: GRCh38\n",
       "# $sourcetype: ensembl\n",
       "# $sourceurl: http://www.ensembl.org\n",
       "# $sourcesize: NA\n",
       "# $tags: c(\"98\", \"AHEnsDbs\", \"Annotation\", \"EnsDb\", \"Ensembl\", \"Gene\",\n",
       "#   \"Protein\", \"Transcript\") \n",
       "# retrieve record with 'object[[\"AH75011\"]]' "
      ]
     },
     "metadata": {},
     "output_type": "display_data"
    }
   ],
   "source": [
    "library(AnnotationHub)\n",
    "ah <- AnnotationHub()\n",
    "\n",
    "# Search for the Ensembl 98 EnsDb for Homo sapiens on AnnotationHub\n",
    "query(ah, \"EnsDb.Hsapiens.v98\")"
   ]
  },
  {
   "cell_type": "code",
   "execution_count": 15,
   "id": "f274f5dc-e348-47d8-8e9d-14db0b1f3942",
   "metadata": {},
   "outputs": [
    {
     "name": "stderr",
     "output_type": "stream",
     "text": [
      "loading from cache\n",
      "\n",
      "require(“ensembldb”)\n",
      "\n"
     ]
    }
   ],
   "source": [
    "ensdb_v98 <- ah[[\"AH75011\"]]"
   ]
  },
  {
   "cell_type": "code",
   "execution_count": null,
   "id": "a2c5968f-c37d-431d-9d7c-5398fd15819e",
   "metadata": {},
   "outputs": [],
   "source": [
    "# extract gene annotations from EnsDb\n",
    "annotations <- GetGRangesFromEnsDb(ensdb = ensdb_v98)\n",
    "\n",
    "# change to UCSC style since the data was mapped to hg38\n",
    "seqlevels(annotations) <- paste0('chr', seqlevels(annotations))\n",
    "genome(annotations) <- \"hg38\"\n"
   ]
  },
  {
   "cell_type": "code",
   "execution_count": null,
   "id": "816ef01c-f3d5-49c7-bdca-bd77bcbc70af",
   "metadata": {},
   "outputs": [],
   "source": [
    "# add the gene information to the object\n",
    "Annotation(pbmc) <- annotations"
   ]
  },
  {
   "cell_type": "code",
   "execution_count": null,
   "id": "36ca4efb-541c-4d19-9bb2-fdac3dc09232",
   "metadata": {},
   "outputs": [],
   "source": [
    "colname_before_NS <- colnames(pbmc@meta.data)"
   ]
  },
  {
   "cell_type": "code",
   "execution_count": null,
   "id": "d768e8e2-387d-46e6-94c7-6c0a00f18a1b",
   "metadata": {},
   "outputs": [],
   "source": [
    "pbmc <- NucleosomeSignal(object = pbmc)"
   ]
  },
  {
   "cell_type": "code",
   "execution_count": null,
   "id": "6c9c584f-faf1-4bc2-b20b-7dd5f836cdae",
   "metadata": {},
   "outputs": [],
   "source": [
    "colname_after_NS <- colnames(pbmc@meta.data)"
   ]
  },
  {
   "cell_type": "code",
   "execution_count": null,
   "id": "65a7ffaf-533b-4334-b0c9-b73d66a80d01",
   "metadata": {},
   "outputs": [],
   "source": [
    "setdiff(colname_after_NS, colname_before_NS)"
   ]
  },
  {
   "cell_type": "code",
   "execution_count": null,
   "id": "7ce0dea0-4381-42af-95c7-9df4b7cb1f0a",
   "metadata": {},
   "outputs": [],
   "source": [
    "pbmc <- TSSEnrichment(object = pbmc)\n"
   ]
  },
  {
   "cell_type": "code",
   "execution_count": null,
   "id": "6c934274-2491-42aa-a461-bb98d0ad1e45",
   "metadata": {},
   "outputs": [],
   "source": [
    "colname_after_TSSEnrich <- colnames(pbmc@meta.data)"
   ]
  },
  {
   "cell_type": "code",
   "execution_count": null,
   "id": "f9702162-29bb-4b67-b77b-c9b62999215b",
   "metadata": {},
   "outputs": [],
   "source": [
    "setdiff(colname_after_TSSEnrich, colname_after_NS)"
   ]
  },
  {
   "cell_type": "code",
   "execution_count": null,
   "id": "92da8765-ec72-41b8-97d9-6242e6dc420f",
   "metadata": {},
   "outputs": [],
   "source": [
    "# add fraction of reads in peaks\n",
    "pbmc$pct_reads_in_peaks <- pbmc$peak_region_fragments / pbmc$passed_filters * 100\n"
   ]
  },
  {
   "cell_type": "code",
   "execution_count": null,
   "id": "cc46058e-378f-44fd-a363-8313c671ac08",
   "metadata": {},
   "outputs": [],
   "source": [
    "# add blacklist ratio\n",
    "pbmc$blacklist_ratio <- FractionCountsInRegion(\n",
    "  object = pbmc, \n",
    "  assay = 'peaks',\n",
    "  regions = blacklist_hg38_unified\n",
    ")"
   ]
  },
  {
   "cell_type": "code",
   "execution_count": null,
   "id": "802b370c-9a02-475f-9fdc-8a458034e130",
   "metadata": {},
   "outputs": [],
   "source": [
    "DensityScatter(pbmc, x = 'nCount_peaks', y = 'TSS.enrichment', log_x = TRUE, quantiles = TRUE)\n"
   ]
  },
  {
   "cell_type": "code",
   "execution_count": null,
   "id": "cfe985ac-028d-4988-95e4-41627e1d1ad7",
   "metadata": {},
   "outputs": [],
   "source": [
    "pbmc$nucleosome_group <- ifelse(pbmc$nucleosome_signal > 4, 'NS > 4', 'NS < 4')\n",
    "FragmentHistogram(object = pbmc, group.by = 'nucleosome_group')"
   ]
  },
  {
   "cell_type": "code",
   "execution_count": null,
   "id": "aa15885b-7784-44ac-a226-6d6df950a5d1",
   "metadata": {},
   "outputs": [],
   "source": [
    "pbmc$nucleosome_group <- ifelse(pbmc$nucleosome_signal > 4, 'NS > 4', 'NS < 4')\n",
    "FragmentHistogram(object = pbmc, group.by = 'nucleosome_group')"
   ]
  },
  {
   "cell_type": "code",
   "execution_count": null,
   "id": "17595bc5-1bec-4cf5-9071-7bfbd306778d",
   "metadata": {},
   "outputs": [],
   "source": [
    "VlnPlot(\n",
    "  object = pbmc,\n",
    "  features = c('nCount_peaks', 'TSS.enrichment', 'blacklist_ratio', 'nucleosome_signal', 'pct_reads_in_peaks'),\n",
    "  pt.size = 0.1,\n",
    "  ncol = 5\n",
    ")"
   ]
  },
  {
   "cell_type": "code",
   "execution_count": null,
   "id": "06bb26e1-e6ec-4777-9b66-6e32817f507e",
   "metadata": {},
   "outputs": [],
   "source": [
    "pbmc <- subset(\n",
    "  x = pbmc,\n",
    "  subset = nCount_peaks > 9000 &\n",
    "    nCount_peaks < 100000 &\n",
    "    pct_reads_in_peaks > 40 &\n",
    "    blacklist_ratio < 0.01 &\n",
    "    nucleosome_signal < 4 &\n",
    "    TSS.enrichment > 4\n",
    ")"
   ]
  },
  {
   "cell_type": "code",
   "execution_count": null,
   "id": "9cb0233b-a3c9-4202-87e2-bfa1f0e0d1f1",
   "metadata": {},
   "outputs": [],
   "source": [
    "pbmc <- RunTFIDF(pbmc)\n",
    "pbmc <- FindTopFeatures(pbmc, min.cutoff = 'q0')\n"
   ]
  },
  {
   "cell_type": "code",
   "execution_count": null,
   "id": "51243dce-1bc0-4599-8a24-eeed707a8cfa",
   "metadata": {},
   "outputs": [],
   "source": [
    "pbmc <- RunSVD(pbmc)"
   ]
  },
  {
   "cell_type": "markdown",
   "id": "148a5316-198f-4ffd-a1eb-65d5d057650e",
   "metadata": {},
   "source": [
    "## Session Infomation"
   ]
  },
  {
   "cell_type": "code",
   "execution_count": null,
   "id": "b4019b4d-03fd-4506-8f33-dc12803fe075",
   "metadata": {},
   "outputs": [],
   "source": [
    "sessionInfo()"
   ]
  },
  {
   "cell_type": "markdown",
   "id": "fca8712b-2d06-4d63-a54c-80332e8aeada",
   "metadata": {},
   "source": [
    "## Reference \n",
    "\n",
    "\n"
   ]
  },
  {
   "cell_type": "code",
   "execution_count": null,
   "id": "6a7e63d1-9abe-4d52-9f4c-6c4faa640682",
   "metadata": {},
   "outputs": [],
   "source": [
    "https://stuartlab.org/signac/articles/pbmc_vignette"
   ]
  }
 ],
 "metadata": {
  "kernelspec": {
   "display_name": "R",
   "language": "R",
   "name": "ir"
  },
  "language_info": {
   "codemirror_mode": "r",
   "file_extension": ".r",
   "mimetype": "text/x-r-source",
   "name": "R",
   "pygments_lexer": "r",
   "version": "4.3.3"
  }
 },
 "nbformat": 4,
 "nbformat_minor": 5
}
